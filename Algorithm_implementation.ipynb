{
 "cells": [
  {
   "cell_type": "code",
   "execution_count": 1,
   "metadata": {},
   "outputs": [
    {
     "name": "stdout",
     "output_type": "stream",
     "text": [
      "Hello World\n"
     ]
    }
   ],
   "source": [
    "print(\"Hello World\")"
   ]
  },
  {
   "cell_type": "markdown",
   "metadata": {},
   "source": [
    "## Import Libralies"
   ]
  },
  {
   "cell_type": "code",
   "execution_count": 10,
   "metadata": {},
   "outputs": [],
   "source": [
    "import numpy as np\n",
    "import random\n",
    "import collections"
   ]
  },
  {
   "cell_type": "markdown",
   "metadata": {},
   "source": [
    "## Utility Generation with Distributions\n",
    "\n",
    "- This script provides a function to generate a set of cardinal utility values for agents and alternatives based on different probability distributions.\n",
    "\n",
    "- Utility values represent the \"true numerical value\" an agent has for an alternative. These values are used to calculate the optimal social welfare, which is needed to\n",
    "determine the distortion of a voting rule."
   ]
  },
  {
   "cell_type": "code",
   "execution_count": 12,
   "metadata": {},
   "outputs": [],
   "source": [
    "def generate_utilities(num_agents, num_alternatives, distribution_type='uniform'):\n",
    "    \"\"\"\n",
    "    Generates a 2D array of cardinal utility values based on a specified distribution.\n",
    "\n",
    "    Args:\n",
    "        num_agents (int): The number of agents (voters).\n",
    "        num_alternatives (int): The number of alternatives.\n",
    "        distribution_type (str): The type of distribution to use.\n",
    "                                 'uniform': Utilities are randomly and uniformly distributed between 0 and 1.\n",
    "                                 'normal': Utilities follow a normal (Gaussian) distribution.\n",
    "    Returns:\n",
    "        list of list: A nested list where utilities[i][j] is the utility of alternative j for agent i.\n",
    "    \"\"\"\n",
    "    utilities = []\n",
    "    \n",
    "    # Check for valid distribution type\n",
    "    if distribution_type not in ['uniform', 'normal']:\n",
    "        print(f\"Warning: Invalid distribution type '{distribution_type}'. Defaulting to 'uniform'.\")\n",
    "        distribution_type = 'uniform'\n",
    "        \n",
    "    # Generate utilities based on the specified distribution\n",
    "    for _ in range(num_agents):\n",
    "        agent_utilities = []\n",
    "        if distribution_type == 'uniform':\n",
    "            # Uniform distribution: each utility value is equally likely to be between 0 and 1.\n",
    "            agent_utilities = [random.uniform(0, 1) for _ in range(num_alternatives)]\n",
    "        elif distribution_type == 'normal':\n",
    "            # Normal distribution: values are clustered around a mean.\n",
    "            # We use a mean of 0.5 and a standard deviation of 0.2 to keep values mostly between 0 and 1.\n",
    "            agent_utilities = [np.random.normal(loc=0.5, scale=0.2) for _ in range(num_alternatives)]\n",
    "            # We'll clip the values to ensure they stay within the [0, 1] range.\n",
    "            agent_utilities = [max(0, min(1, u)) for u in agent_utilities]\n",
    "\n",
    "        utilities.append(agent_utilities)\n",
    "        \n",
    "    return utilities"
   ]
  },
  {
   "cell_type": "code",
   "execution_count": 13,
   "metadata": {},
   "outputs": [
    {
     "name": "stdout",
     "output_type": "stream",
     "text": [
      "=== Uniform Distribution Utilities ===\n",
      "Number of Agents: 10\n",
      "Number of Alternatives: 5\n",
      "Generated Utilities:\n",
      "Agent 1: [0.36, 0.35, 0.72, 0.45, 0.6]\n",
      "Agent 2: [0.82, 0.78, 0.23, 0.23, 0.01]\n",
      "Agent 3: [0.22, 0.12, 0.86, 0.05, 0.11]\n",
      "Agent 4: [0.71, 0.07, 0.66, 0.63, 0.24]\n",
      "Agent 5: [0.38, 0.31, 0.62, 0.21, 0.84]\n",
      "Agent 6: [0.67, 0.03, 0.79, 0.38, 0.06]\n",
      "Agent 7: [0.31, 0.05, 0.12, 0.58, 0.65]\n",
      "Agent 8: [0.36, 0.67, 0.21, 0.26, 0.92]\n",
      "Agent 9: [0.98, 0.19, 0.07, 0.74, 0.29]\n",
      "Agent 10: [0.71, 0.98, 0.53, 0.95, 0.37]\n"
     ]
    }
   ],
   "source": [
    "if __name__ == \"__main__\":\n",
    "    # --- Example 1: Uniform Distribution ---\n",
    "    num_agents_uniform = 10\n",
    "    num_alternatives_uniform = 5\n",
    "    uniform_utilities = generate_utilities(num_agents_uniform, num_alternatives_uniform, 'uniform')\n",
    "\n",
    "    print(\"=== Uniform Distribution Utilities ===\")\n",
    "    print(f\"Number of Agents: {num_agents_uniform}\")\n",
    "    print(f\"Number of Alternatives: {num_alternatives_uniform}\")\n",
    "    print(\"Generated Utilities:\")\n",
    "    for i, u_list in enumerate(uniform_utilities):\n",
    "        print(f\"Agent {i+1}: {[round(u, 2) for u in u_list]}\")"
   ]
  },
  {
   "cell_type": "code",
   "execution_count": 14,
   "metadata": {},
   "outputs": [
    {
     "name": "stdout",
     "output_type": "stream",
     "text": [
      "\n",
      "========================================\n",
      "\n",
      "=== Normal Distribution Utilities ===\n",
      "Number of Agents: 10\n",
      "Number of Alternatives: 5\n",
      "Generated Utilities:\n",
      "Agent 1: [0.43, 0, 0.41, 0.52, 0.55]\n",
      "Agent 2: [0.29, 0.71, 0.52, 0.82, 0.32]\n",
      "Agent 3: [0.39, 0.71, 0.61, 0.51, 0.47]\n",
      "Agent 4: [0.55, 0.43, 0.62, 0.73, 0.38]\n",
      "Agent 5: [0.65, 0.45, 0.49, 0.64, 0.43]\n",
      "Agent 6: [0.44, 0.68, 0.75, 0.82, 0.53]\n",
      "Agent 7: [0.67, 0, 0.36, 0.57, 0.41]\n",
      "Agent 8: [0.42, 0.46, 0.36, 0.52, 0.4]\n",
      "Agent 9: [0.61, 0.42, 0.44, 0.48, 0.48]\n",
      "Agent 10: [0.75, 0.35, 0.46, 0.73, 0.58]\n"
     ]
    }
   ],
   "source": [
    "if __name__ == \"__main__\":    \n",
    "# --- Example 2: Normal Distribution ---\n",
    "    print(\"\\n\" + \"=\"*40 + \"\\n\")\n",
    "    num_agents_normal = 10\n",
    "    num_alternatives_normal = 5\n",
    "    normal_utilities = generate_utilities(num_agents_normal, num_alternatives_normal, 'normal')\n",
    "\n",
    "    print(\"=== Normal Distribution Utilities ===\")\n",
    "    print(f\"Number of Agents: {num_agents_normal}\")\n",
    "    print(f\"Number of Alternatives: {num_alternatives_normal}\")\n",
    "    print(\"Generated Utilities:\")\n",
    "    for i, u_list in enumerate(normal_utilities):\n",
    "        print(f\"Agent {i+1}: {[round(u, 2) for u in u_list]}\")"
   ]
  },
  {
   "cell_type": "markdown",
   "metadata": {},
   "source": [
    "## Algorithm Implementation"
   ]
  },
  {
   "cell_type": "markdown",
   "metadata": {},
   "source": [
    "## Plurality\n",
    "\n",
    "- This script demonstrates the Plurality voting rule. It first generates a set of random\n",
    "preferences for a given number of agents and alternatives. Then, it runs the Plurality\n",
    "algorithm to find the winning alternative, which is the one with the most first-place votes."
   ]
  },
  {
   "cell_type": "code",
   "execution_count": 16,
   "metadata": {},
   "outputs": [],
   "source": [
    "def generate_random_preference_list(num_alternatives):\n",
    "    \"\"\"\n",
    "    Generates a random permutation of alternatives to represent an agent's preferences.\n",
    "\n",
    "    Args:\n",
    "        num_alternatives (int): The total number of alternatives.\n",
    "\n",
    "    Returns:\n",
    "        list: A randomly ordered list of alternative names (e.g., ['A3', 'A1', 'A2']).\n",
    "    \"\"\"\n",
    "    alternatives = [f'A{i + 1}' for i in range(num_alternatives)]\n",
    "    random.shuffle(alternatives)\n",
    "    return alternatives\n",
    "\n",
    "def generate_preferences(num_agents, num_alternatives):\n",
    "    \"\"\"\n",
    "    Simulates preferences for a given number of agents and alternatives.\n",
    "    Each agent's preference is a random permutation of the alternatives.\n",
    "\n",
    "    Args:\n",
    "        num_agents (int): The number of agents (voters).\n",
    "        num_alternatives (int): The number of alternatives.\n",
    "\n",
    "    Returns:\n",
    "        list: A list of lists, where each inner list is an agent's preference list.\n",
    "    \"\"\"\n",
    "    preferences = []\n",
    "    for _ in range(num_agents):\n",
    "        preferences.append(generate_random_preference_list(num_alternatives))\n",
    "    return preferences\n",
    "\n",
    "def plurality_voting(preferences):\n",
    "    \"\"\"\n",
    "    Implements the Plurality voting rule to find the winning alternative.\n",
    "    Plurality works by giving one point to the first-ranked alternative of each agent.\n",
    "    The alternative with the most points wins.\n",
    "\n",
    "    Args:\n",
    "        preferences (list): A 2D list of agent preferences.\n",
    "\n",
    "    Returns:\n",
    "        dict: A dictionary containing the winner, their vote count, and all scores.\n",
    "    \"\"\"\n",
    "    if not preferences:\n",
    "        return {\"winner\": None, \"votes\": 0, \"scores\": {}}\n",
    "\n",
    "    # Tally the votes. Each agent's top-ranked choice gets one point.\n",
    "    vote_counts = collections.Counter(pref[0] for pref in preferences)\n",
    "\n",
    "    # Find the winner by identifying the alternative with the most votes\n",
    "    winner = None\n",
    "    max_votes = -1\n",
    "\n",
    "    for alternative, votes in vote_counts.items():\n",
    "        if votes > max_votes:\n",
    "            max_votes = votes\n",
    "            winner = alternative\n",
    "        # Tie-breaking can be added here if needed, but for simplicity, the first found winner is returned.\n",
    "\n",
    "    return {\n",
    "        \"winner\": winner,\n",
    "        \"votes\": max_votes,\n",
    "        \"scores\": dict(vote_counts)\n",
    "    }\n"
   ]
  },
  {
   "cell_type": "code",
   "execution_count": 17,
   "metadata": {},
   "outputs": [
    {
     "name": "stdout",
     "output_type": "stream",
     "text": [
      "=== Plurality Voting Simulation ===\n",
      "Number of Agents: 10\n",
      "Number of Alternatives: 5\n",
      "\n",
      "Simulated Preferences:\n",
      "Agent 1: A5 > A2 > A3 > A1 > A4\n",
      "Agent 2: A3 > A1 > A4 > A2 > A5\n",
      "Agent 3: A1 > A4 > A5 > A2 > A3\n",
      "Agent 4: A2 > A1 > A4 > A3 > A5\n",
      "Agent 5: A4 > A1 > A3 > A2 > A5\n",
      "Agent 6: A4 > A5 > A3 > A1 > A2\n",
      "Agent 7: A3 > A2 > A5 > A4 > A1\n",
      "Agent 8: A3 > A1 > A4 > A2 > A5\n",
      "Agent 9: A2 > A4 > A5 > A3 > A1\n",
      "Agent 10: A1 > A3 > A4 > A2 > A5\n",
      "\n",
      "Voting Results:\n",
      "Scores: {'A5': 1, 'A3': 3, 'A1': 2, 'A2': 2, 'A4': 2}\n",
      "Winner: A3 with 3 votes.\n"
     ]
    }
   ],
   "source": [
    "# Run it\n",
    "if __name__ == \"__main__\":\n",
    "    num_agents = 10\n",
    "    num_alternatives = 5\n",
    "\n",
    "    # Generate preferences and run the Plurality algorithm\n",
    "    agent_preferences = generate_preferences(num_agents, num_alternatives)\n",
    "    results = plurality_voting(agent_preferences)\n",
    "\n",
    "    # Print the results\n",
    "    print(\"=== Plurality Voting Simulation ===\")\n",
    "    print(f\"Number of Agents: {num_agents}\")\n",
    "    print(f\"Number of Alternatives: {num_alternatives}\")\n",
    "\n",
    "    print(\"\\nSimulated Preferences:\")\n",
    "    for i, pref in enumerate(agent_preferences):\n",
    "        print(f\"Agent {i + 1}: {' > '.join(pref)}\")\n",
    "\n",
    "    print(\"\\nVoting Results:\")\n",
    "    print(\"Scores:\", results['scores'])\n",
    "    print(f\"Winner: {results['winner']} with {results['votes']} votes.\")"
   ]
  },
  {
   "cell_type": "markdown",
   "metadata": {},
   "source": [
    "# Veto\n",
    "\n",
    "This script implements the Veto voting rule. It takes a set of agent preferences and\n",
    "determines the winning alternative. \n",
    "\n",
    "The Veto rule works by giving one negative point\n",
    "(a 'veto') to the last-ranked alternative of each agent. The alternative with the fewest\n",
    "vetoes (the highest score) wins."
   ]
  },
  {
   "cell_type": "code",
   "execution_count": 21,
   "metadata": {},
   "outputs": [],
   "source": [
    "def veto_voting(preferences):\n",
    "    \"\"\"\n",
    "    Implements the Veto voting rule to find the winning alternative.\n",
    "\n",
    "    Args:\n",
    "        preferences (list): A 2D list of agent preferences.\n",
    "\n",
    "    Returns:\n",
    "        dict: A dictionary containing the winner, their score, and all scores.\n",
    "    \"\"\"\n",
    "    if not preferences or not preferences[0]:\n",
    "        return {\"winner\": None, \"score\": 0, \"scores\": {}}\n",
    "\n",
    "    num_alternatives = len(preferences[0])\n",
    "    # The default score for all alternatives is zero.\n",
    "    veto_scores = {alt: 0 for alt in preferences[0]}\n",
    "\n",
    "    # Iterate through each agent's preferences.\n",
    "    for preference_list in preferences:\n",
    "        # The last-ranked alternative gets a negative point (or a veto).\n",
    "        last_choice = preference_list[num_alternatives - 1]\n",
    "        veto_scores[last_choice] += 1  # Increment the veto count\n",
    "\n",
    "    # Find the winner: the alternative with the fewest vetoes.\n",
    "    winner = None\n",
    "    min_vetoes = float('inf')  # Start with a very high number to find the minimum.\n",
    "\n",
    "    # Iterate through the scores to find the alternative with the minimum vetoes.\n",
    "    for alternative, score in veto_scores.items():\n",
    "        # The Veto rule is a bit counter-intuitive: the lowest score wins.\n",
    "        if score < min_vetoes:\n",
    "            min_vetoes = score\n",
    "            winner = alternative\n",
    "        # Tie-breaking can be added here if needed, but for simplicity, the first one is returned.\n",
    "    \n",
    "    # We can also represent the score positively for clarity (e.g., as 10 - number of vetoes)\n",
    "    # This might make the output more readable.\n",
    "    scores_for_display = {alt: len(preferences) - score for alt, score in veto_scores.items()}\n",
    "\n",
    "    return {\n",
    "        \"winner\": winner,\n",
    "        \"score\": len(preferences) - min_vetoes,\n",
    "        \"scores\": scores_for_display\n",
    "    }"
   ]
  },
  {
   "cell_type": "code",
   "execution_count": 19,
   "metadata": {},
   "outputs": [
    {
     "name": "stdout",
     "output_type": "stream",
     "text": [
      "=== Veto Voting Simulation ===\n",
      "Simulated Preferences:\n",
      "Agent 1: A1 > A2 > A3 > A4\n",
      "Agent 2: A2 > A3 > A4 > A1\n",
      "Agent 3: A4 > A3 > A2 > A1\n",
      "Agent 4: A3 > A1 > A2 > A4\n",
      "Agent 5: A2 > A4 > A1 > A3\n",
      "\n",
      "Veto Scores:\n",
      "{'A1': 3, 'A2': 5, 'A3': 4, 'A4': 3}\n",
      "Winner: A2 with a score of 5.\n"
     ]
    }
   ],
   "source": [
    "# Run it\n",
    "if __name__ == \"__main__\":\n",
    "    # You can reuse the generate_preferences function from your previous code.\n",
    "    # For this example, let's use a sample preference list to demonstrate the logic.\n",
    "    sample_preferences = [\n",
    "        ['A1', 'A2', 'A3', 'A4'],  # A4 gets a veto\n",
    "        ['A2', 'A3', 'A4', 'A1'],  # A1 gets a veto\n",
    "        ['A4', 'A3', 'A2', 'A1'],  # A1 gets a veto\n",
    "        ['A3', 'A1', 'A2', 'A4'],  # A4 gets a veto\n",
    "        ['A2', 'A4', 'A1', 'A3'],  # A3 gets a veto\n",
    "    ]\n",
    "    \n",
    "    print(\"=== Veto Voting Simulation ===\")\n",
    "    print(\"Simulated Preferences:\")\n",
    "    for i, pref in enumerate(sample_preferences):\n",
    "        print(f\"Agent {i + 1}: {' > '.join(pref)}\")\n",
    "    \n",
    "    veto_results = veto_voting(sample_preferences)\n",
    "    \n",
    "    print(\"\\nVeto Scores:\")\n",
    "    print(veto_results['scores'])\n",
    "    print(f\"Winner: {veto_results['winner']} with a score of {veto_results['score']}.\")"
   ]
  },
  {
   "cell_type": "code",
   "execution_count": null,
   "metadata": {},
   "outputs": [],
   "source": []
  }
 ],
 "metadata": {
  "kernelspec": {
   "display_name": "gymenv",
   "language": "python",
   "name": "python3"
  },
  "language_info": {
   "codemirror_mode": {
    "name": "ipython",
    "version": 3
   },
   "file_extension": ".py",
   "mimetype": "text/x-python",
   "name": "python",
   "nbconvert_exporter": "python",
   "pygments_lexer": "ipython3",
   "version": "3.12.2"
  }
 },
 "nbformat": 4,
 "nbformat_minor": 2
}
